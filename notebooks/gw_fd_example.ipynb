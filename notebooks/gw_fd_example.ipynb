{
 "cells": [
  {
   "cell_type": "markdown",
   "metadata": {
    "id": "71pZiAQGQdkE"
   },
   "source": [
    "# LTU-ILI: GW inference example\n",
    "### Author:\n",
    "  - [@CompiledAtBirth](https://github.com/CompiledAtBirth) (Nicolas Chartier)\n",
    "\n",
    "\n",
    "## Summary\n",
    "\n",
    "- Work for the ILI group within [Simons Collaboration on Learning the Universe](https://www.learning-the-universe.org).\n",
    "- Test on GW inference with multiround SNPE (or single round)"
   ]
  },
  {
   "cell_type": "markdown",
   "metadata": {
    "id": "FHkYZ8JkQ72g"
   },
   "source": [
    "#O) Necessary installs and imports\n"
   ]
  },
  {
   "cell_type": "markdown",
   "metadata": {},
   "source": [
    "# 0) Setup"
   ]
  },
  {
   "cell_type": "markdown",
   "metadata": {
    "id": "TZ3oWOPQRQPL"
   },
   "source": [
    "### 0-1) If ltu-ili installed, start running below"
   ]
  },
  {
   "cell_type": "code",
   "execution_count": 1,
   "metadata": {
    "colab": {
     "base_uri": "https://localhost:8080/"
    },
    "id": "IimeNel0BxNP",
    "outputId": "a4fa8305-d86c-449e-f4bf-1eb82a0e9014"
   },
   "outputs": [
    {
     "name": "stdout",
     "output_type": "stream",
     "text": [
      "ltu-ili                       0.0.0               /home/chartier/Documents/LTU_ILI/Development/GW_EX/ltu-ili\n",
      "#######################\n",
      "Name: torch\n",
      "Version: 1.12.0\n",
      "Summary: Tensors and Dynamic neural networks in Python with strong GPU acceleration\n",
      "Home-page: https://pytorch.org/\n",
      "Author: PyTorch Team\n",
      "Author-email: packages@pytorch.org\n",
      "License: BSD-3\n",
      "Location: /home/chartier/Modules/miniconda3/envs/ili-sbi-dev/lib/python3.10/site-packages\n",
      "Requires: typing-extensions\n",
      "Required-by: nflows, pyknos, pyro-ppl, sbi\n",
      "#######################\n",
      "Python 3.10.13\n",
      "#######################\n",
      "Device: cpu\n"
     ]
    }
   ],
   "source": [
    "!pip list | grep ltu\n",
    "print(\"#######################\")\n",
    "!pip show torch\n",
    "print(\"#######################\")\n",
    "!python --version\n",
    "print(\"#######################\")\n",
    "\n",
    "import os\n",
    "# ignore warnings for readability\n",
    "import warnings\n",
    "warnings.filterwarnings('ignore')\n",
    "import time\n",
    "\n",
    "import numpy as np\n",
    "import matplotlib.pyplot as plt\n",
    "import matplotlib.colors as mcolors\n",
    "import torch\n",
    "import torch.nn as nn\n",
    "import sbi\n",
    "\n",
    "import ili\n",
    "from ili.dataloaders import NumpyLoader, SBISimulator\n",
    "from ili.inference.runner_sbi import SBIRunner, SBIRunnerSequential\n",
    "from ili.validation.metrics import PosteriorCoverage, PlotSinglePosterior\n",
    "from ili.embedding import FCN\n",
    "\n",
    "# PYCBC and LAL imports\n",
    "import lal as _lal # _lal.LIGOTimeGPS\n",
    "from pycbc.detector import Detector, get_available_detectors\n",
    "from pycbc.waveform import generator, get_fd_waveform_from_td, get_td_waveform_from_fd, td_approximants, fd_approximants, get_td_waveform, get_fd_waveform\n",
    "import pycbc.psd as psd\n",
    "#from pycbc.noise import noise_from_psd\n",
    "import pycbc.noise as pynoise\n",
    "from pycbc.types import FrequencySeries, TimeSeries, complex_same_precision_as, real_same_precision_as, Array\n",
    "from pycbc.filter import matchedfilter, sigmasq, make_frequency_series, highpass_fir, lowpass_fir, get_cutoff_indices\n",
    "from pycbc.waveform.utils import apply_fd_time_shift, taper_timeseries, \\\n",
    "                                 ceilpow2\n",
    "\n",
    "# If windowing\n",
    "from scipy.signal import tukey\n",
    "\n",
    "from scipy.interpolate import interp1d\n",
    "\n",
    "device = 'cuda' if torch.cuda.is_available() else 'cpu'\n",
    "print('Device:', device)\n",
    "\n",
    "# Needed for SBISimulator instance (as of now)\n",
    "sims_dir  = \"./sims\"\n",
    "if not os.path.exists(sims_dir):\n",
    "  os.mkdir(sims_dir)"
   ]
  },
  {
   "cell_type": "code",
   "execution_count": 2,
   "metadata": {
    "id": "ZinU9_OwdiAa"
   },
   "outputs": [
    {
     "data": {
      "text/plain": [
       "\u001b[0;31mSignature:\u001b[0m \u001b[0msbi\u001b[0m\u001b[0;34m.\u001b[0m\u001b[0minference\u001b[0m\u001b[0;34m.\u001b[0m\u001b[0mprepare_for_sbi\u001b[0m\u001b[0;34m(\u001b[0m\u001b[0msimulator\u001b[0m\u001b[0;34m:\u001b[0m \u001b[0mCallable\u001b[0m\u001b[0;34m,\u001b[0m \u001b[0mprior\u001b[0m\u001b[0;34m)\u001b[0m \u001b[0;34m->\u001b[0m \u001b[0mTuple\u001b[0m\u001b[0;34m[\u001b[0m\u001b[0mCallable\u001b[0m\u001b[0;34m,\u001b[0m \u001b[0mtorch\u001b[0m\u001b[0;34m.\u001b[0m\u001b[0mdistributions\u001b[0m\u001b[0;34m.\u001b[0m\u001b[0mdistribution\u001b[0m\u001b[0;34m.\u001b[0m\u001b[0mDistribution\u001b[0m\u001b[0;34m]\u001b[0m\u001b[0;34m\u001b[0m\u001b[0;34m\u001b[0m\u001b[0m\n",
       "\u001b[0;31mDocstring:\u001b[0m\n",
       "Prepare simulator and prior for usage in sbi.\n",
       "\n",
       "NOTE: This is a wrapper around `process_prior` and `process_simulator` which can be\n",
       "used in isolation as well.\n",
       "\n",
       "Attempts to meet the following requirements by reshaping and type-casting:\n",
       "\n",
       "- the simulator function receives as input and returns a Tensor.<br/>\n",
       "- the simulator can simulate batches of parameters and return batches of data.<br/>\n",
       "- the prior does not produce batches and samples and evaluates to Tensor.<br/>\n",
       "- the output shape is a `torch.Size((1,N))` (i.e, has a leading batch dimension 1).\n",
       "\n",
       "If this is not possible, a suitable exception will be raised.\n",
       "\n",
       "Args:\n",
       "    simulator: Simulator as provided by the user.\n",
       "    prior: Prior as provided by the user.\n",
       "\n",
       "Returns:\n",
       "    Tuple (simulator, prior) checked and matching the requirements of sbi.\n",
       "\u001b[0;31mFile:\u001b[0m      ~/Modules/miniconda3/envs/ili-sbi-dev/lib/python3.10/site-packages/sbi/utils/user_input_checks.py\n",
       "\u001b[0;31mType:\u001b[0m      function"
      ]
     },
     "metadata": {},
     "output_type": "display_data"
    }
   ],
   "source": [
    "#PosteriorCoverage?\n",
    "#SBIRunnerSequential?\n",
    "sbi.inference.prepare_for_sbi?"
   ]
  },
  {
   "cell_type": "code",
   "execution_count": 3,
   "metadata": {
    "id": "xyvNKOeMA4z1"
   },
   "outputs": [],
   "source": [
    "def detector_psd_from_wf(my_series, f_low, psd_string= \"aLIGOZeroDetHighPower\"):\n",
    "    '''\n",
    "    Returns PSD with right shape given time or frequency series\n",
    "    Default analytical computation is aLIGOZeroDetHighPower\n",
    "    '''\n",
    "    if isinstance(my_series, TimeSeries):\n",
    "\n",
    "        P = my_series.sample_times.shape[0]\n",
    "        delta_f = 1.0/my_series.duration # actually TimeSeries  instances also have a delta_f attribut\n",
    "        Nfft = int(np.floor(P/2) + 1) # careful from real TD series, we divide the samples by 2 to get actual Nfft\n",
    "\n",
    "    elif isinstance(my_series, FrequencySeries):\n",
    "\n",
    "        Nfft = my_series.sample_frequencies.shape[0]\n",
    "        delta_f = my_series.delta_f\n",
    "\n",
    "    else:\n",
    "        raise ValueError(\"mySeries argument must be a TimeSeries or FrequencySeries instance\")\n",
    "\n",
    "    return psd.from_string(psd_string, Nfft, delta_f, f_low)\n",
    "\n",
    "# Actual way to do it according to pycbc documentation example\n",
    "# Argumetns are TimeSeries of FrequencySeries instances\n",
    "def resize_series(series1, series2):\n",
    "    tlen = max(len(series1), len(series2))\n",
    "    series1.resize(tlen)\n",
    "    series2.resize(tlen)\n",
    "\n",
    "def resizeSeries_list(series_list):\n",
    "    max_len = max([len(s) for s in series_list])\n",
    "    for s in series_list:\n",
    "        s.resize(max_len)\n"
   ]
  },
  {
   "cell_type": "markdown",
   "metadata": {
    "id": "aGnoB8psMHTy"
   },
   "source": [
    "## 0-2) Functions for forward model"
   ]
  },
  {
   "cell_type": "code",
   "execution_count": 4,
   "metadata": {
    "id": "w6tnZCZ8S5_W"
   },
   "outputs": [],
   "source": [
    "def time_shift_fd(freq_series, t_shift):\n",
    "  '''\n",
    "  I cook my own function\n",
    "  '''\n",
    "  dt = float(t_shift - freq_series.start_time)\n",
    "  freqs = freq_series.sample_frequencies.numpy()\n",
    "  shift_arr =  np.array(np.exp(-2j*np.pi*(dt)*freqs), dtype=complex_same_precision_as(freq_series))\n",
    "\n",
    "  return FrequencySeries(shift_arr*freq_series.data, delta_f = freq_series.delta_f)\n",
    "\n",
    "def waveform_polarizations_fd(approximant, params_dict):\n",
    "\n",
    "    if \"delta_f\" in params_dict:\n",
    "        hp, hc = get_fd_waveform(approximant=approximant, **params_dict)\n",
    "    else:\n",
    "        raise ValueError(\"You must have either delta_t or delta_f in the dictionary\")\n",
    "\n",
    "    return hp, hc\n",
    "\n",
    "def detector_frame_strain(hp, hc, detectors, det_params, verbose = False):\n",
    "\n",
    "  '''\n",
    "  detectors = List[str], for detector names\n",
    "  domains = [bool_time, bool_freq],determines if we use data in time domain, frequency domain or both\n",
    "  epoch : {float, lal.LIGOTimeGPS\n",
    "          The epoch start time to set the waveform to. A time shift = tc - epoch is\n",
    "          applied to waveforms before returning.\n",
    "  tc: The GPS time of coalescence (should be geocentric time)\n",
    "  '''\n",
    "\n",
    "  h = {}\n",
    "  detectors = {det: Detector(det) for det in detectors}\n",
    "  hp.start_time = hc.start_time = det_params[\"start_time\"]\n",
    "\n",
    "  if isinstance(hp, FrequencySeries) and isinstance(hc, FrequencySeries):\n",
    "# 17/01/2023 : astropy breaks to estimate antenna patterns (under the hood of pycbc)\n",
    "      for detname, det in detectors.items():\n",
    "        # apply detector response function\n",
    "        fp, fc = det.antenna_pattern(det_params['ra'], det_params['dec'], det_params['polarization'],det_params['tc'])\n",
    "        h_det = fp*hp + fc*hc\n",
    "        #h_det = hp + hc\n",
    "\n",
    "        # apply the time shift\n",
    "        dt = det_params[\"tc\"]+ det.time_delay_from_earth_center(det_params['ra'],det_params['dec'],det_params['tc'])\n",
    "        #dt = det_params[\"tc\"]\n",
    "        if verbose:\n",
    "          print(\"Time shift will be %.5f s\"%(dt - h_det.start_time))\n",
    "        h_det = time_shift_fd(h_det, dt) # my function, I understand what is happening\n",
    "        #h_det = apply_fd_time_shift(h_det,dt)\n",
    "        h[detname] = h_det\n",
    "\n",
    "  else:\n",
    "      raise ValueError(\"You must provide a FrequencySeries instance\")\n",
    "\n",
    "  return h\n",
    "\n",
    "def inject_into_noise_fd(projected_signal, my_psd, fmin, fmax, tol = 1e-7):\n",
    "  '''\n",
    "  my_psd: FrequencySeries instance\n",
    "  noise_timeseries: a TimeSeries instance corresponding to a random noise draw\n",
    "  '''\n",
    "\n",
    "  # Sanity check for delta_f\n",
    "  df = projected_signal.delta_f\n",
    "  if abs(my_psd.delta_f - df) > tol:\n",
    "    raise Exception(f\"Signal dd = {projected_signal.delta_f} does not \"f\"match psd df {my_psd.delta_f}\")\n",
    "\n",
    "  # Cutoff with fmin and fn = Nyquist frequency\n",
    "  Nfft = len(projected_signal)\n",
    "  N = (Nfft-1) * 2\n",
    "  k_min, k_max = get_cutoff_indices(fmin, fmax, df,N)\n",
    "  s = projected_signal.data[k_min:k_max]\n",
    "  f = projected_signal.sample_frequencies[k_min:k_max]\n",
    "\n",
    "  # Generate noise realization (straightforward in freq. domain)\n",
    "  noise = np.random.randn(len(s)) + 1j * np.random.randn(len(s))\n",
    "\n",
    "  # set DC and Nyquist = 0\n",
    "  noise[0] = 0.\n",
    "\n",
    "  # no Nyquist frequency when N=odd\n",
    "  if np.mod(Nfft, 2) == 0:\n",
    "      noise[-1] = 0.\n",
    "\n",
    "  factor =  1./np.sqrt(4.0*df) # as in BilBy, check theory behind it!\n",
    "  noise *= np.sqrt(my_psd.data[k_min:k_max])* 1./np.sqrt(4.0*df)\n",
    "\n",
    "  return f, s, noise\n"
   ]
  },
  {
   "cell_type": "markdown",
   "metadata": {
    "id": "wX2wzFLL45oI"
   },
   "source": [
    "## 0-3) Observation $x_0$, example of full forward model"
   ]
  },
  {
   "cell_type": "code",
   "execution_count": 5,
   "metadata": {
    "id": "JByLc5XeESHH"
   },
   "outputs": [],
   "source": [
    "# Uncomment below to get the list of available time domain or freq. domain waveforms\n",
    "# print(td_approximants())\n",
    "# print(fd_approximants())"
   ]
  },
  {
   "cell_type": "code",
   "execution_count": 6,
   "metadata": {
    "colab": {
     "base_uri": "https://localhost:8080/"
    },
    "id": "bFg5RugKZA8R",
    "outputId": "f72c7cc5-156f-48e6-e6a6-98c31b69ab36"
   },
   "outputs": [
    {
     "name": "stdout",
     "output_type": "stream",
     "text": [
      "$\\theta_0=400.0,37.0,32.0$\n"
     ]
    }
   ],
   "source": [
    "# Time and duration parameters\n",
    "tc = 1126259462.420 # time of coalescence in seconds\n",
    "noise_duration = 4. # in seconds, and the inverse fixes delta_f\n",
    "\n",
    "# We place the coalescence time at the midlle of the waveform in time domain.\n",
    "my_epoch = tc - noise_duration/2. # starting time of the waveform\n",
    "\n",
    "#approximant = \"SEOBNRv4T\" # time-domain\n",
    "approximant = \"IMRPhenomPv2\" # frequency domain\n",
    "\n",
    "# Parametrization for masses\n",
    "q = 1.15625\n",
    "M = 69. # in solar masses\n",
    "\n",
    "mass1 = (q * M)/(q + 1.0)\n",
    "mass2 = M/(q + 1.0)\n",
    "ra = 2.2\n",
    "dec = -1.25\n",
    "\n",
    "# NOTE: Inclination runs from 0 to pi, with poles at 0 and pi\n",
    "#       coa_phase runs from 0 to 2 pi.\n",
    "inclination = 2.5 # in rad\n",
    "\n",
    "coa_phase = 1.5 # in rad\n",
    "polarization = 1.75\n",
    "distance = 400. # in Mpc/h\n",
    "f_ref = 14. # in Hz\n",
    "f_lower = 14.\n",
    "\n",
    "# Variable parameters for infence\n",
    "inference_params = {\"distance\": distance,\n",
    "             \"mass1\": mass1,\n",
    "             \"mass2\": mass2}\n",
    "\n",
    "d_theta = len(inference_params)\n",
    "theta_obs = np.array([inference_params[entry] for entry in inference_params.keys()])\n",
    "ss = ','.join([\"{}\".format(th) for th in theta_obs])\n",
    "print(r\"$\\theta_0=%s$\"%ss)\n",
    "\n",
    "\n",
    "cbc_params = {\"spin1z\": 0.,\n",
    "              \"spin2z\": 0.,\n",
    "             \"inclination\": inclination, # inclination angle\n",
    "             \"coa_phase\": coa_phase,\n",
    "             \"f_lower\": f_lower,\n",
    "             \"f_ref\": f_ref}\n",
    "\n",
    "det_params = {\"ra\": ra,\n",
    "              \"dec\": dec,\n",
    "              \"polarization\":polarization,\n",
    "              \"start_time\":my_epoch,\n",
    "              \"tc\":tc\n",
    "             }\n",
    "\n",
    "Fs = 1024. # in Hz\n",
    "Fn = 0.5*Fs # Nyquist-Shannon frequency\n",
    "delta_t = 1./Fs\n",
    "delta_f = 1./noise_duration # DFT property\n",
    "cbc_params[\"delta_f\"] = delta_f\n",
    "N_time = int(Fs/delta_f)\n",
    "Ndft = int(N_time/2)+1\n",
    "\n",
    "# Which detector(s) do you want to study?\n",
    "my_detectors = [\"H1\", \"L1\"]\n",
    "\n",
    "obs_params = cbc_params.copy()\n",
    "\n",
    "# For summary size\n",
    "# fmin_sim must be higher than f_low_psd and lower freq. of approximant computation\n",
    "fmin_sim = 20.\n",
    "# Since delta_f is fixed by the duration in time domain, setting frequency bounds should\n",
    "# give a fixed summary size after injection.\n",
    "fmax_sim = 512. # should be lower or equal to the Nyquist frequency"
   ]
  },
  {
   "cell_type": "code",
   "execution_count": 7,
   "metadata": {
    "id": "m1seJ9RivdXb"
   },
   "outputs": [],
   "source": [
    "# To have slightly faster computations, we compute a high resolution PSD and then passed\n",
    "# to the simulator function\n",
    "psd_str = \"aLIGOZeroDetHighPower\"\n",
    "f_low_psd = 15. # in Hz\n",
    "f_high_psd = Fn"
   ]
  },
  {
   "cell_type": "markdown",
   "metadata": {
    "id": "jPp-P8gfRrk5"
   },
   "source": [
    "### Below is just to double check the waveform and projection operations"
   ]
  },
  {
   "cell_type": "code",
   "execution_count": 8,
   "metadata": {
    "colab": {
     "base_uri": "https://localhost:8080/",
     "height": 500
    },
    "id": "P3HgBxlK1X0a",
    "outputId": "fbd7a7da-8950-4e44-a277-a8505792dd7b"
   },
   "outputs": [
    {
     "data": {
      "image/png": "[encoded data removed]",
      "text/plain": [
       "<Figure size 600x500 with 1 Axes>"
      ]
     },
     "metadata": {},
     "output_type": "display_data"
    }
   ],
   "source": [
    "obs_params[\"mass1\"] = mass1\n",
    "obs_params[\"mass2\"] = mass2\n",
    "obs_params[\"distance\"] = distance\n",
    "\n",
    "# First operation: wavefrom approximant in radiation frame\n",
    "hp, hc = waveform_polarizations_fd(approximant, obs_params)\n",
    "indsum = np.where((hp.sample_frequencies>=fmin_sim)&(hp.sample_frequencies<=fmax_sim))\n",
    "\n",
    "\n",
    "# Ensure at this point the waveforms have frequencies up to fmax_sim to avoid errors with get_cutoff_indices later\n",
    "fmw = np.max(hp.sample_frequencies.numpy())\n",
    "if fmw < fmax_sim:\n",
    "  print(\"fmax sim pb detected\")\n",
    "  ds = int((fmax_sim - fmw)/delta_f) + 1\n",
    "  hptemp = np.zeros((len(hp)+ds,))\n",
    "  hctemp = np.zeros((len(hp)+ds,))\n",
    "  hptemp[:len(hp)] = hp.data\n",
    "  hctemp[:len(hp)] = hc.data\n",
    "  hp = FrequencySeries(hptemp, delta_f = delta_f)\n",
    "  hc = FrequencySeries(hctemp, delta_f = delta_f)\n",
    "\n",
    "# Example Figure\n",
    "plt.figure(figsize =(6,5))\n",
    "plt.plot(hp.sample_frequencies, hp.data.real, label = \"h+ (real part)\", color = \"red\", linewidth = 1.1)\n",
    "plt.plot(hc.sample_frequencies, hc.data.real, label = \"hx (real part)\", color = \"blue\", linewidth = 1.1)\n",
    "plt.legend(fontsize = 12, loc = \"upper left\")\n",
    "plt.xlabel(\"Frequency (Hz)\", fontsize = 14)\n",
    "plt.xscale(\"log\")\n",
    "plt.ylabel(\"Strain\", fontsize = 14)\n",
    "plt.xticks(fontsize = 12)\n",
    "plt.yticks(fontsize = 12, rotation = 45)\n",
    "plt.title(\"q=%.1f and M = %.2f\"%(q,M) +\"$M_{\\odot}$\", loc = \"center\")\n",
    "plt.grid()"
   ]
  },
  {
   "cell_type": "markdown",
   "metadata": {},
   "source": [
    "## PB ASTROPY TO ASSESS"
   ]
  },
  {
   "cell_type": "code",
   "execution_count": null,
   "metadata": {
    "colab": {
     "base_uri": "https://localhost:8080/",
     "height": 526
    },
    "id": "RpkgpU46dRvX",
    "outputId": "baabe26f-a090-4400-bfe7-f142705d2689"
   },
   "outputs": [],
   "source": [
    "# Second operation: project onto detectors\n",
    "h = detector_frame_strain(hp, hc, my_detectors, det_params, verbose = False)\n",
    "%matplotlib inline\n",
    "\n",
    "# Plot the strains for illustration\n",
    "ht1 = h[my_detectors[0]]\n",
    "ht2 = h[my_detectors[1]]\n",
    "\n",
    "# Check consistency of dimensions\n",
    "print(len(ht1.sample_frequencies[indsum]))\n",
    "print(int((fmax_sim-fmin_sim)/delta_f)+1)\n",
    "\n",
    "plt.figure(figsize =(6,5))\n",
    "plt.plot(ht1.sample_frequencies, ht1.data, label = \"Projection on %s\"%my_detectors[0], color = \"red\", linewidth = 1.1)\n",
    "#plt.plot(ht2.sample_frequencies, ht2.data, label = \"Projection on %s\"%my_detectors[1], color = \"blue\", linewidth = 1.1)\n",
    "plt.legend(fontsize = 12, loc = \"upper left\")\n",
    "plt.xlabel(\"Frequency (Hz)\", fontsize = 14)\n",
    "plt.xscale(\"log\")\n",
    "plt.ylabel(\"Projected Strain\", fontsize = 14)\n",
    "plt.xticks(fontsize = 12)\n",
    "plt.yticks(fontsize = 12, rotation = 45)\n",
    "plt.grid()"
   ]
  },
  {
   "cell_type": "markdown",
   "metadata": {
    "id": "_LgE5Yn9bkK0"
   },
   "source": [
    "### Notes about summary size\n",
    "- we cannot know in advance the size of the returned FrequencySeries, so we must crop the later in the simulator function\n",
    "- given the typical size of the summary ($\\sim 1000 - 10000$), an embedding net may constitute a good option for density estimation."
   ]
  },
  {
   "cell_type": "code",
   "execution_count": 11,
   "metadata": {
    "colab": {
     "base_uri": "https://localhost:8080/",
     "height": 378
    },
    "id": "awzN2_txD8cm",
    "outputId": "780f94b8-0398-4d84-c75e-f5b3f4131222"
   },
   "outputs": [
    {
     "name": "stdout",
     "output_type": "stream",
     "text": [
      "3936\n",
      "20.0\n",
      "511.75\n"
     ]
    },
    {
     "data": {
      "text/plain": [
       "<matplotlib.legend.Legend at 0x7f7878949780>"
      ]
     },
     "execution_count": 11,
     "metadata": {},
     "output_type": "execute_result"
    },
    {
     "data": {
      "image/png": "[encoded data removed]",
      "text/plain": [
       "<Figure size 1600x500 with 2 Axes>"
      ]
     },
     "metadata": {},
     "output_type": "display_data"
    }
   ],
   "source": [
    "# Rearange into an array and add noise for each detector\n",
    "total_dim = sum([len(hd) for hd in h])\n",
    "x0 = np.array([])\n",
    "\n",
    "# We fix the seed to generate fake observation\n",
    "seeds = [30, 33]\n",
    "si = 0\n",
    "for ifo in my_detectors:\n",
    "\n",
    "  l = len(h[ifo])\n",
    "\n",
    "  Nfftd = len(h[ifo])\n",
    "  Nt = (Nfftd -1)*2\n",
    "  # Use delta_f = Fs/Nt to get fmax (Nyquist-Shannon)\n",
    "  #fmax = 0.5 * h[ifo].delta_f*Nt\n",
    "  seed = seeds[si] ; si +=1\n",
    "  np.random.seed(seed)\n",
    "  psd_ifo = psd.from_string(psd_str, Nfftd, delta_f = delta_f, low_freq_cutoff = f_low_psd)\n",
    "  f,s,n = inject_into_noise_fd(h[ifo], psd_ifo, fmin_sim, fmax_sim, tol = 1e-7)\n",
    "  x0 = np.concatenate((x0,s+n))\n",
    "\n",
    "# Having dim_x fixed and consistent is important!\n",
    "dim_x = len(x0)\n",
    "print(dim_x)\n",
    "print(np.min(f.numpy()))\n",
    "print(np.max(f.numpy()))\n",
    "x_0_file = \"x0_observation.npy\"\n",
    "np.save(sims_dir + \"/\" + x_0_file, x0)\n",
    "\n",
    "lh = int(len(x0)/2)\n",
    "x1 = x0[:lh]\n",
    "x2 = x0[lh:]\n",
    "\n",
    "fig,ax = plt.subplots(1,2,figsize=(16,5))\n",
    "ax[1].plot(f,x2, color = \"blue\", label = \"Injection from %s\"%my_detectors[1], linewidth = 1.0)\n",
    "ax[1].set_xscale('log')\n",
    "ax[1].grid()\n",
    "ax[1].tick_params(axis='both', which='major', labelsize=12)\n",
    "ax[1].set_xlabel(\"f (Hz)\", fontsize = 14)\n",
    "ax[1].legend(fontsize = 12, loc = \"best\")\n",
    "\n",
    "ax[0].plot(f, x1, color = \"red\", label = \"Injection from %s\"%my_detectors[0], linewidth = 1.0)\n",
    "ax[0].grid()\n",
    "ax[0].set_xscale(\"log\")\n",
    "ax[0].set_ylabel(\"Projected strains\", fontsize = 14)\n",
    "ax[0].tick_params(axis='both', which='major', labelsize=12)\n",
    "ax[0].set_xlabel(\"f(Hz)\", fontsize = 14)\n",
    "ax[0].legend(fontsize = 12, loc = \"best\")"
   ]
  },
  {
   "cell_type": "code",
   "execution_count": 12,
   "metadata": {
    "id": "u9h8nKrFMNZz"
   },
   "outputs": [],
   "source": [
    "def gw_simulator(params):\n",
    "\n",
    "  if isinstance(params, torch.Tensor):\n",
    "    params = params.cpu().numpy().flatten()\n",
    "\n",
    "  # Waveform in source frame\n",
    "  obs_params[\"mass1\"] = params[1]\n",
    "  obs_params[\"mass2\"] = params[2]\n",
    "  obs_params[\"distance\"] = params[0]\n",
    "  hp, hc = waveform_polarizations_fd(approximant, obs_params)\n",
    "\n",
    "  # Ensure at this point the waveforms have frequencies up to fmax_sim to avoid errors with get_cutoff_indices later\n",
    "  fmw = np.max(hp.sample_frequencies.numpy())\n",
    "  if fmw < fmax_sim:\n",
    "    print(\"fmax sim pb detected\")\n",
    "    ds = int((fmax_sim - fmw)/delta_f) + 1\n",
    "    hptemp = np.zeros((len(hp)+ds,))\n",
    "    hctemp = np.zeros((len(hp)+ds,))\n",
    "    hptemp[:len(hp)] = hp.data\n",
    "    hctemp[:len(hp)] = hc.data\n",
    "    hp = FrequencySeries(hptemp, delta_f = delta_f)\n",
    "    hc = FrequencySeries(hctemp, delta_f = delta_f)\n",
    "\n",
    "  # Waveform (or \"strain\") projection in detector frame\n",
    "  # There will be as many strains as detectors in the analysis\n",
    "  h_proj = detector_frame_strain(hp, hc, my_detectors, det_params, verbose = False)\n",
    "\n",
    "  # Rearange into an array and add noise for each detector\n",
    "  total_dim = sum([len(hd) for hd in h_proj])\n",
    "  x = np.array([])\n",
    "\n",
    "  for ifo in my_detectors:\n",
    "\n",
    "    l = len(h_proj[ifo])\n",
    "\n",
    "    Nfftd = len(h_proj[ifo])\n",
    "    Nt = (Nfftd -1)*2\n",
    "    psd_ifo = psd.from_string(psd_str, Nfftd, delta_f = delta_f, low_freq_cutoff = f_low_psd)\n",
    "    f,s,n = inject_into_noise_fd(h_proj[ifo], psd_ifo, fmin_sim, fmax_sim, tol = 1e-7)\n",
    "    x = np.concatenate((x,s+n))\n",
    "\n",
    "  #return x\n",
    "  # it seems that SBIRunnerSequential, as of 16/01/2024, throws error if the\n",
    "  # simulator function returns a numpy.ndarray instance as in the tutorial.ipynb\n",
    "  return torch.from_numpy(x).to(dtype = torch.float32, device = device)\n"
   ]
  },
  {
   "cell_type": "code",
   "execution_count": 13,
   "metadata": {
    "colab": {
     "base_uri": "https://localhost:8080/"
    },
    "id": "igqF5TssvfAh",
    "outputId": "152816af-af31-429f-a364-dea1536075ae"
   },
   "outputs": [
    {
     "name": "stdout",
     "output_type": "stream",
     "text": [
      "3936\n",
      "3936\n"
     ]
    }
   ],
   "source": [
    "# Test the simulator function is running\n",
    "xtest = gw_simulator([200,30,40])\n",
    "print(xtest.shape[0])\n",
    "print(dim_x)"
   ]
  },
  {
   "cell_type": "markdown",
   "metadata": {
    "id": "x6UVW8rIWAL4"
   },
   "source": [
    "# 1) LTU-ILI, run inference"
   ]
  },
  {
   "cell_type": "markdown",
   "metadata": {
    "id": "xxXx8SHQRMYe"
   },
   "source": [
    "## 1-1) Instantiate LOADER"
   ]
  },
  {
   "cell_type": "code",
   "execution_count": 14,
   "metadata": {
    "colab": {
     "base_uri": "https://localhost:8080/"
    },
    "id": "jcExT1dbTeyD",
    "outputId": "ddc08b4b-7f7a-4268-f9d1-d17f8bd938d3"
   },
   "outputs": [
    {
     "name": "stdout",
     "output_type": "stream",
     "text": [
      "./sims\n"
     ]
    }
   ],
   "source": [
    "#SBISimulator?\n",
    "n_sims = 20 # number of simulations of first round\n",
    "print(sims_dir)"
   ]
  },
  {
   "cell_type": "code",
   "execution_count": 34,
   "metadata": {
    "id": "hVFDXuGITJbC"
   },
   "outputs": [],
   "source": [
    "# define a prior\n",
    "prior = ili.utils.Uniform(low=[200, 35., 35.], high=[1000.0,80., 80.], device=device)\n",
    "\n",
    "#my_simulator = gw_simulator\n",
    "my_simulator, my_prior = sbi.inference.prepare_for_sbi(gw_simulator, prior)\n",
    "my_loader = SBISimulator(in_dir = sims_dir, xobs_file = x_0_file,\n",
    "                         num_simulations = n_sims, simulator = my_simulator)"
   ]
  },
  {
   "cell_type": "code",
   "execution_count": 35,
   "metadata": {
    "colab": {
     "base_uri": "https://localhost:8080/"
    },
    "id": "8RZ5Wo9-ymBB",
    "outputId": "1340b736-e509-435c-c59c-3f2e36344b0e"
   },
   "outputs": [
    {
     "name": "stdout",
     "output_type": "stream",
     "text": [
      "(3936,)\n"
     ]
    }
   ],
   "source": [
    "x0test = np.load(sims_dir + \"/\" + x_0_file)\n",
    "print(x0test.shape)"
   ]
  },
  {
   "cell_type": "markdown",
   "metadata": {
    "id": "5llibnFlp2E-"
   },
   "source": [
    "### Parametrize embedding network"
   ]
  },
  {
   "cell_type": "code",
   "execution_count": 36,
   "metadata": {
    "id": "9Yfa5VkWZeAg"
   },
   "outputs": [],
   "source": [
    "activation = \"SiLU\"\n",
    "n_hidden = [100, 100, 100]\n",
    "n_summary = 100\n",
    "my_embedding = FCN(n_data = dim_x, n_hidden = n_hidden, act_fn = activation)"
   ]
  },
  {
   "cell_type": "markdown",
   "metadata": {
    "id": "Rke3Z2qeWnpr"
   },
   "source": [
    "Prior values for masses similar as in [Green et. al, 2020](https://arxiv.org/pdf/2002.07656.pdf) for this example (section III-A)"
   ]
  },
  {
   "cell_type": "code",
   "execution_count": 37,
   "metadata": {
    "id": "IG5rraTXTjdZ"
   },
   "outputs": [],
   "source": [
    "# define an inference class (here, we are doing amortized posterior inference)\n",
    "inference_class = sbi.inference.SNPE\n",
    "\n",
    "# Optional signatures (not used, for illustration here)\n",
    "#signatures = [\"maf_test\", \"mdn_test\"]\n",
    "signatures = [\"maf_test\"]\n",
    "\n",
    "# For more details with eg MAF, check the function build_maf in sbi/sbi/neural_nets/flow.py\n",
    "type_de = \"maf\" # Masked Autoregressive Flows\n",
    "nHiddenMAF = 80 # default is 50\n",
    "numT = 5 # number of stacked MADEs in the MAF, default is 5 if not specified\n",
    "dropoutMAF = 0.2 # the high-level sbi interface set this to 0.0 by default\n",
    "batchNorm = False# use_batch_norm = False by default in high-level sbi\n",
    "activationType = torch.tanh # default of high-level sbi is torch.tanh for buld_maf\n",
    "\n",
    "density_maf = sbi.utils.get_nn_models.posterior_nn(model = type_de, hidden_features = nHiddenMAF, num_transforms = numT,\n",
    "                                           activation = activationType, dropout_probability = dropoutMAF, use_batch_norm = batchNorm)\n",
    "\n",
    "nets = [density_maf]\n",
    "# instantiate your neural networks to be used as an ensemble\n",
    "# nets = [\n",
    "#     sbi.utils.posterior_nn(model='maf', hidden_features=200, num_transforms=5)\n",
    "# ]\n",
    "my_val_fraction = 0.1\n",
    "# define training arguments: also \"epochs\",\n",
    "train_args = {\n",
    "    'training_batch_size': 64,\n",
    "    'learning_rate': 1e-3,\n",
    "    \"validation_fraction\": my_val_fraction,\n",
    "    'num_round':1,\n",
    "}\n",
    "\n",
    "# initialize the trainer\n",
    "runner = SBIRunnerSequential(\n",
    "    prior=my_prior,\n",
    "    inference_class=inference_class,\n",
    "    nets=nets,\n",
    "    device=device,\n",
    "    embedding_net= my_embedding,\n",
    "    train_args=train_args,\n",
    "    proposal=None,\n",
    "    output_path=None,# no output path, so nothing will be saved to file\n",
    "    signatures = signatures\n",
    ")"
   ]
  },
  {
   "cell_type": "markdown",
   "metadata": {
    "id": "waDUkwjW435c"
   },
   "source": [
    "\n",
    "- Pb1 : params passed to gw_simulator within the sbi backend of ltu_ili gives an instance torch.Size([1, d]) where d is the number of parameters to infer (as of 16/01/2024).\n",
    "- Sol1 : handle this directly in the simulator function by treating the parameters as a tensor and then flattening the array.\n",
    "\n",
    "- Pb2: For the SBI loader class, in the simulate function, calling .numpy() method would not work on x if it was a torch.Tensor on cuda device (right after simulate_in_batches was completed)\n",
    "- Sol2: preventively call the .cpu() method on the x tensor in simulate function of SBISimulator.\n",
    "\n",
    "- Pb3: in the SBIRunner class, _train_round function, the line using model.append_simulations - after \"if (\"NPE\" in self.class_name) throws an error in snpe_base from sbi package. If p is the dimension of the summary vector and n the number of sims (in the batch), then the assertion says that n should be identical to n*p (in the example 20 sims * 3936 = 78720). So it seems that n sims times p summary elements is treated as n*p sims.\n",
    "```\n",
    "/content/ltu-ili/ili/inference/runner_sbi.py in _train_round(self, models, x, theta, proposal)\n",
    "    243             # append simulations\n",
    "    244             if (\"NPE\" in self.class_name):\n",
    "--> 245                 model = model.append_simulations(theta, x, proposal=proposal)\n",
    "    246             else:\n",
    "    247                 model = model.append_simulations(theta, x)\n",
    "\n",
    "/usr/local/lib/python3.10/dist-packages/sbi/inference/snpe/snpe_base.py in append_simulations(self, theta, x, proposal, exclude_invalid_x, data_device)\n",
    "    147             data_device = self._device\n",
    "    148\n",
    "--> 149         theta, x = validate_theta_and_x(\n",
    "    150             theta, x, data_device=data_device, training_device=self._device\n",
    "    151         )\n",
    "\n",
    "/usr/local/lib/python3.10/dist-packages/sbi/utils/user_input_checks.py in validate_theta_and_x(theta, x, data_device, training_device)\n",
    "    698     assert isinstance(x, Tensor), \"Simulator output must be a `torch.Tensor`.\"\n",
    "    699\n",
    "--> 700     assert theta.shape[0] == x.shape[0], (\n",
    "    701         f\"Number of parameter sets (={theta.shape[0]} must match the number of \"\n",
    "    702         f\"simulation outputs (={x.shape[0]})\"\n",
    "\n",
    "AssertionError: Number of parameter sets (=20 must match the number of simulation outputs (=78720)\n",
    "```"
   ]
  },
  {
   "cell_type": "code",
   "execution_count": 38,
   "metadata": {
    "colab": {
     "base_uri": "https://localhost:8080/",
     "height": 807,
     "referenced_widgets": [
      "71f13820205d475cb543c8f177b5b48f",
      "1a9072ae8078476cbc4d77fb74766fbe",
      "9e7562f88c31450a9be8c29003d1a79e",
      "893d2fbcb1fd422d930514691a043336",
      "ce74629b18654936b6171a0803f7e00d",
      "fe2b37b879d04dec91db0c94b9639704",
      "7ec67d6507d44bf794de7d29273cbad6",
      "a670da06a70c49bc9e9b9fbf8d4c511d",
      "30cc101f0f654eca99fc3e121437aa87",
      "6ef862f668a943b2a1267e8e53f8fa69",
      "7a3e6ee2199a430a89bcff541dc06116"
     ]
    },
    "id": "8DWQC_wFtLjd",
    "outputId": "2c351205-4576-446b-d4fb-e89473907bf5",
    "scrolled": true
   },
   "outputs": [
    {
     "name": "stderr",
     "output_type": "stream",
     "text": [
      "INFO:root:MODEL INFERENCE CLASS: SNPE_C\n",
      "INFO:root:The first round of inference will simulate from the given proposal or prior.\n",
      "Running 20 simulations.: 100%|████████████████████████████████████████████████████████| 20/20 [00:00<00:00, 20.87it/s]\n",
      "INFO:root:Running round 1 / 1\n",
      "INFO:root:Training model 1 / 1.\n"
     ]
    },
    {
     "name": "stdout",
     "output_type": "stream",
     "text": [
      "shape of x from simulate in batches\n",
      "torch.Size([20, 3936])\n",
      "(0,) (20, 3936)\n",
      "shape of x numpy\n",
      "(20, 3936)\n",
      "shape of x\n",
      "torch.Size([20, 3936])\n",
      "shape of theta\n",
      "torch.Size([20, 3])\n",
      " Neural network successfully converged after 31 epochs."
     ]
    },
    {
     "name": "stderr",
     "output_type": "stream",
     "text": [
      "INFO:root:It took 0.8819918632507324 seconds to train models.\n"
     ]
    }
   ],
   "source": [
    "# train the model\n",
    "posterior_ensemble, summaries = runner(loader=my_loader)"
   ]
  },
  {
   "cell_type": "code",
   "execution_count": null,
   "metadata": {
    "id": "ssEETF5l57rK"
   },
   "outputs": [],
   "source": [
    "# plot train/validation loss\n",
    "fig, ax = plt.subplots(1, 1, figsize=(6,4))\n",
    "c = list(mcolors.TABLEAU_COLORS)\n",
    "for i, m in enumerate(summaries):\n",
    "    ax.plot(m['training_log_probs'], ls='-', label=f\"{i}_train\", c=c[i])\n",
    "    ax.plot(m['validation_log_probs'], ls='--', label=f\"{i}_val\", c=c[i])\n",
    "ax.set_xlim(0)\n",
    "ax.set_xlabel('Epoch')\n",
    "ax.set_ylabel('Log probability')\n",
    "ax.legend()"
   ]
  },
  {
   "cell_type": "code",
   "execution_count": null,
   "metadata": {
    "id": "JRfkVrvvvCdL"
   },
   "outputs": [],
   "source": [
    "# use ltu-ili's built-in validation metrics to plot the posterior for this point\n",
    "metric = PlotSinglePosterior(\n",
    "    backend='sbi', output_path=None, num_samples=1000,\n",
    "    sample_method='direct', labels=[f'$\\\\theta_{i}$' for i in range(3)]\n",
    ")\n",
    "fig = metric(\n",
    "    posterior=posterior_ensemble,\n",
    "    x_obs = x[ind], theta_obs=theta[ind],\n",
    "    x=x, theta=theta\n",
    ")\n"
   ]
  }
 ],
 "metadata": {
  "accelerator": "GPU",
  "colab": {
   "gpuType": "T4",
   "provenance": []
  },
  "kernelspec": {
   "display_name": "Python 3 (ipykernel)",
   "language": "python",
   "name": "python3"
  },
  "language_info": {
   "codemirror_mode": {
    "name": "ipython",
    "version": 3
   },
   "file_extension": ".py",
   "mimetype": "text/x-python",
   "name": "python",
   "nbconvert_exporter": "python",
   "pygments_lexer": "ipython3",
   "version": "3.10.13"
  },
  "widgets": {
   "application/vnd.jupyter.widget-state+json": {
    "1a9072ae8078476cbc4d77fb74766fbe": {
     "model_module": "@jupyter-widgets/controls",
     "model_module_version": "1.5.0",
     "model_name": "HTMLModel",
     "state": {
      "_dom_classes": [],
      "_model_module": "@jupyter-widgets/controls",
      "_model_module_version": "1.5.0",
      "_model_name": "HTMLModel",
      "_view_count": null,
      "_view_module": "@jupyter-widgets/controls",
      "_view_module_version": "1.5.0",
      "_view_name": "HTMLView",
      "description": "",
      "description_tooltip": null,
      "layout": "IPY_MODEL_fe2b37b879d04dec91db0c94b9639704",
      "placeholder": "​",
      "style": "IPY_MODEL_7ec67d6507d44bf794de7d29273cbad6",
      "value": "Running 20 simulations.: 100%"
     }
    },
    "30cc101f0f654eca99fc3e121437aa87": {
     "model_module": "@jupyter-widgets/controls",
     "model_module_version": "1.5.0",
     "model_name": "ProgressStyleModel",
     "state": {
      "_model_module": "@jupyter-widgets/controls",
      "_model_module_version": "1.5.0",
      "_model_name": "ProgressStyleModel",
      "_view_count": null,
      "_view_module": "@jupyter-widgets/base",
      "_view_module_version": "1.2.0",
      "_view_name": "StyleView",
      "bar_color": null,
      "description_width": ""
     }
    },
    "6ef862f668a943b2a1267e8e53f8fa69": {
     "model_module": "@jupyter-widgets/base",
     "model_module_version": "1.2.0",
     "model_name": "LayoutModel",
     "state": {
      "_model_module": "@jupyter-widgets/base",
      "_model_module_version": "1.2.0",
      "_model_name": "LayoutModel",
      "_view_count": null,
      "_view_module": "@jupyter-widgets/base",
      "_view_module_version": "1.2.0",
      "_view_name": "LayoutView",
      "align_content": null,
      "align_items": null,
      "align_self": null,
      "border": null,
      "bottom": null,
      "display": null,
      "flex": null,
      "flex_flow": null,
      "grid_area": null,
      "grid_auto_columns": null,
      "grid_auto_flow": null,
      "grid_auto_rows": null,
      "grid_column": null,
      "grid_gap": null,
      "grid_row": null,
      "grid_template_areas": null,
      "grid_template_columns": null,
      "grid_template_rows": null,
      "height": null,
      "justify_content": null,
      "justify_items": null,
      "left": null,
      "margin": null,
      "max_height": null,
      "max_width": null,
      "min_height": null,
      "min_width": null,
      "object_fit": null,
      "object_position": null,
      "order": null,
      "overflow": null,
      "overflow_x": null,
      "overflow_y": null,
      "padding": null,
      "right": null,
      "top": null,
      "visibility": null,
      "width": null
     }
    },
    "71f13820205d475cb543c8f177b5b48f": {
     "model_module": "@jupyter-widgets/controls",
     "model_module_version": "1.5.0",
     "model_name": "HBoxModel",
     "state": {
      "_dom_classes": [],
      "_model_module": "@jupyter-widgets/controls",
      "_model_module_version": "1.5.0",
      "_model_name": "HBoxModel",
      "_view_count": null,
      "_view_module": "@jupyter-widgets/controls",
      "_view_module_version": "1.5.0",
      "_view_name": "HBoxView",
      "box_style": "",
      "children": [
       "IPY_MODEL_1a9072ae8078476cbc4d77fb74766fbe",
       "IPY_MODEL_9e7562f88c31450a9be8c29003d1a79e",
       "IPY_MODEL_893d2fbcb1fd422d930514691a043336"
      ],
      "layout": "IPY_MODEL_ce74629b18654936b6171a0803f7e00d"
     }
    },
    "7a3e6ee2199a430a89bcff541dc06116": {
     "model_module": "@jupyter-widgets/controls",
     "model_module_version": "1.5.0",
     "model_name": "DescriptionStyleModel",
     "state": {
      "_model_module": "@jupyter-widgets/controls",
      "_model_module_version": "1.5.0",
      "_model_name": "DescriptionStyleModel",
      "_view_count": null,
      "_view_module": "@jupyter-widgets/base",
      "_view_module_version": "1.2.0",
      "_view_name": "StyleView",
      "description_width": ""
     }
    },
    "7ec67d6507d44bf794de7d29273cbad6": {
     "model_module": "@jupyter-widgets/controls",
     "model_module_version": "1.5.0",
     "model_name": "DescriptionStyleModel",
     "state": {
      "_model_module": "@jupyter-widgets/controls",
      "_model_module_version": "1.5.0",
      "_model_name": "DescriptionStyleModel",
      "_view_count": null,
      "_view_module": "@jupyter-widgets/base",
      "_view_module_version": "1.2.0",
      "_view_name": "StyleView",
      "description_width": ""
     }
    },
    "893d2fbcb1fd422d930514691a043336": {
     "model_module": "@jupyter-widgets/controls",
     "model_module_version": "1.5.0",
     "model_name": "HTMLModel",
     "state": {
      "_dom_classes": [],
      "_model_module": "@jupyter-widgets/controls",
      "_model_module_version": "1.5.0",
      "_model_name": "HTMLModel",
      "_view_count": null,
      "_view_module": "@jupyter-widgets/controls",
      "_view_module_version": "1.5.0",
      "_view_name": "HTMLView",
      "description": "",
      "description_tooltip": null,
      "layout": "IPY_MODEL_6ef862f668a943b2a1267e8e53f8fa69",
      "placeholder": "​",
      "style": "IPY_MODEL_7a3e6ee2199a430a89bcff541dc06116",
      "value": " 20/20 [00:04&lt;00:00,  4.26it/s]"
     }
    },
    "9e7562f88c31450a9be8c29003d1a79e": {
     "model_module": "@jupyter-widgets/controls",
     "model_module_version": "1.5.0",
     "model_name": "FloatProgressModel",
     "state": {
      "_dom_classes": [],
      "_model_module": "@jupyter-widgets/controls",
      "_model_module_version": "1.5.0",
      "_model_name": "FloatProgressModel",
      "_view_count": null,
      "_view_module": "@jupyter-widgets/controls",
      "_view_module_version": "1.5.0",
      "_view_name": "ProgressView",
      "bar_style": "success",
      "description": "",
      "description_tooltip": null,
      "layout": "IPY_MODEL_a670da06a70c49bc9e9b9fbf8d4c511d",
      "max": 20,
      "min": 0,
      "orientation": "horizontal",
      "style": "IPY_MODEL_30cc101f0f654eca99fc3e121437aa87",
      "value": 20
     }
    },
    "a670da06a70c49bc9e9b9fbf8d4c511d": {
     "model_module": "@jupyter-widgets/base",
     "model_module_version": "1.2.0",
     "model_name": "LayoutModel",
     "state": {
      "_model_module": "@jupyter-widgets/base",
      "_model_module_version": "1.2.0",
      "_model_name": "LayoutModel",
      "_view_count": null,
      "_view_module": "@jupyter-widgets/base",
      "_view_module_version": "1.2.0",
      "_view_name": "LayoutView",
      "align_content": null,
      "align_items": null,
      "align_self": null,
      "border": null,
      "bottom": null,
      "display": null,
      "flex": null,
      "flex_flow": null,
      "grid_area": null,
      "grid_auto_columns": null,
      "grid_auto_flow": null,
      "grid_auto_rows": null,
      "grid_column": null,
      "grid_gap": null,
      "grid_row": null,
      "grid_template_areas": null,
      "grid_template_columns": null,
      "grid_template_rows": null,
      "height": null,
      "justify_content": null,
      "justify_items": null,
      "left": null,
      "margin": null,
      "max_height": null,
      "max_width": null,
      "min_height": null,
      "min_width": null,
      "object_fit": null,
      "object_position": null,
      "order": null,
      "overflow": null,
      "overflow_x": null,
      "overflow_y": null,
      "padding": null,
      "right": null,
      "top": null,
      "visibility": null,
      "width": null
     }
    },
    "ce74629b18654936b6171a0803f7e00d": {
     "model_module": "@jupyter-widgets/base",
     "model_module_version": "1.2.0",
     "model_name": "LayoutModel",
     "state": {
      "_model_module": "@jupyter-widgets/base",
      "_model_module_version": "1.2.0",
      "_model_name": "LayoutModel",
      "_view_count": null,
      "_view_module": "@jupyter-widgets/base",
      "_view_module_version": "1.2.0",
      "_view_name": "LayoutView",
      "align_content": null,
      "align_items": null,
      "align_self": null,
      "border": null,
      "bottom": null,
      "display": null,
      "flex": null,
      "flex_flow": null,
      "grid_area": null,
      "grid_auto_columns": null,
      "grid_auto_flow": null,
      "grid_auto_rows": null,
      "grid_column": null,
      "grid_gap": null,
      "grid_row": null,
      "grid_template_areas": null,
      "grid_template_columns": null,
      "grid_template_rows": null,
      "height": null,
      "justify_content": null,
      "justify_items": null,
      "left": null,
      "margin": null,
      "max_height": null,
      "max_width": null,
      "min_height": null,
      "min_width": null,
      "object_fit": null,
      "object_position": null,
      "order": null,
      "overflow": null,
      "overflow_x": null,
      "overflow_y": null,
      "padding": null,
      "right": null,
      "top": null,
      "visibility": null,
      "width": null
     }
    },
    "fe2b37b879d04dec91db0c94b9639704": {
     "model_module": "@jupyter-widgets/base",
     "model_module_version": "1.2.0",
     "model_name": "LayoutModel",
     "state": {
      "_model_module": "@jupyter-widgets/base",
      "_model_module_version": "1.2.0",
      "_model_name": "LayoutModel",
      "_view_count": null,
      "_view_module": "@jupyter-widgets/base",
      "_view_module_version": "1.2.0",
      "_view_name": "LayoutView",
      "align_content": null,
      "align_items": null,
      "align_self": null,
      "border": null,
      "bottom": null,
      "display": null,
      "flex": null,
      "flex_flow": null,
      "grid_area": null,
      "grid_auto_columns": null,
      "grid_auto_flow": null,
      "grid_auto_rows": null,
      "grid_column": null,
      "grid_gap": null,
      "grid_row": null,
      "grid_template_areas": null,
      "grid_template_columns": null,
      "grid_template_rows": null,
      "height": null,
      "justify_content": null,
      "justify_items": null,
      "left": null,
      "margin": null,
      "max_height": null,
      "max_width": null,
      "min_height": null,
      "min_width": null,
      "object_fit": null,
      "object_position": null,
      "order": null,
      "overflow": null,
      "overflow_x": null,
      "overflow_y": null,
      "padding": null,
      "right": null,
      "top": null,
      "visibility": null,
      "width": null
     }
    }
   }
  }
 },
 "nbformat": 4,
 "nbformat_minor": 4
}
